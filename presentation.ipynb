{
 "cells": [
  {
   "cell_type": "code",
   "execution_count": 1,
   "metadata": {},
   "outputs": [
    {
     "name": "stdout",
     "output_type": "stream",
     "text": [
      "Defaulting to user installation because normal site-packages is not writeable\n",
      "Collecting streamlit\n",
      "  Downloading streamlit-1.35.0-py2.py3-none-any.whl (8.6 MB)\n",
      "\u001b[K     |████████████████████████████████| 8.6 MB 7.8 MB/s eta 0:00:01     |█████████████                   | 3.5 MB 531 kB/s eta 0:00:10\n",
      "\u001b[?25hRequirement already satisfied: pandas<3,>=1.3.0 in /Users/kh/Library/Python/3.9/lib/python/site-packages (from streamlit) (2.2.2)\n",
      "Collecting protobuf<5,>=3.20\n",
      "  Downloading protobuf-4.25.3-cp37-abi3-macosx_10_9_universal2.whl (394 kB)\n",
      "\u001b[K     |████████████████████████████████| 394 kB 1.5 MB/s eta 0:00:01\n",
      "\u001b[?25hCollecting pyarrow>=7.0\n",
      "  Downloading pyarrow-16.1.0-cp39-cp39-macosx_11_0_arm64.whl (26.0 MB)\n",
      "\u001b[K     |████████████████████████████████| 26.0 MB 1.8 MB/s eta 0:00:01\n",
      "\u001b[?25hRequirement already satisfied: tornado<7,>=6.0.3 in /Users/kh/Library/Python/3.9/lib/python/site-packages (from streamlit) (6.4)\n",
      "Collecting altair<6,>=4.0\n",
      "  Downloading altair-5.3.0-py3-none-any.whl (857 kB)\n",
      "\u001b[K     |████████████████████████████████| 857 kB 9.3 MB/s eta 0:00:01\n",
      "\u001b[?25hCollecting blinker<2,>=1.0.0\n",
      "  Downloading blinker-1.8.2-py3-none-any.whl (9.5 kB)\n",
      "Collecting cachetools<6,>=4.0\n",
      "  Downloading cachetools-5.3.3-py3-none-any.whl (9.3 kB)\n",
      "Requirement already satisfied: requests<3,>=2.27 in /Users/kh/Library/Python/3.9/lib/python/site-packages (from streamlit) (2.32.2)\n",
      "Requirement already satisfied: tenacity<9,>=8.1.0 in /Users/kh/Library/Python/3.9/lib/python/site-packages (from streamlit) (8.3.0)\n",
      "Requirement already satisfied: pillow<11,>=7.1.0 in /Users/kh/Library/Python/3.9/lib/python/site-packages (from streamlit) (10.3.0)\n",
      "Requirement already satisfied: typing-extensions<5,>=4.3.0 in /Users/kh/Library/Python/3.9/lib/python/site-packages (from streamlit) (4.12.0)\n",
      "Requirement already satisfied: numpy<2,>=1.19.3 in /Users/kh/Library/Python/3.9/lib/python/site-packages (from streamlit) (1.26.4)\n",
      "Requirement already satisfied: click<9,>=7.0 in /Users/kh/Library/Python/3.9/lib/python/site-packages (from streamlit) (8.1.7)\n",
      "Collecting pydeck<1,>=0.8.0b4\n",
      "  Downloading pydeck-0.9.1-py2.py3-none-any.whl (6.9 MB)\n",
      "\u001b[K     |████████████████████████████████| 6.9 MB 887 kB/s eta 0:00:01\n",
      "\u001b[?25hCollecting rich<14,>=10.14.0\n",
      "  Downloading rich-13.7.1-py3-none-any.whl (240 kB)\n",
      "\u001b[K     |████████████████████████████████| 240 kB 5.8 MB/s eta 0:00:01\n",
      "\u001b[?25hCollecting gitpython!=3.1.19,<4,>=3.0.7\n",
      "  Downloading GitPython-3.1.43-py3-none-any.whl (207 kB)\n",
      "\u001b[K     |████████████████████████████████| 207 kB 28.5 MB/s eta 0:00:01\n",
      "\u001b[?25hRequirement already satisfied: packaging<25,>=16.8 in /Users/kh/Library/Python/3.9/lib/python/site-packages (from streamlit) (24.0)\n",
      "Collecting toml<2,>=0.10.1\n",
      "  Downloading toml-0.10.2-py2.py3-none-any.whl (16 kB)\n",
      "Collecting jsonschema>=3.0\n",
      "  Downloading jsonschema-4.22.0-py3-none-any.whl (88 kB)\n",
      "\u001b[K     |████████████████████████████████| 88 kB 4.2 MB/s eta 0:00:01\n",
      "\u001b[?25hRequirement already satisfied: jinja2 in /Users/kh/Library/Python/3.9/lib/python/site-packages (from altair<6,>=4.0->streamlit) (3.1.4)\n",
      "Collecting toolz\n",
      "  Downloading toolz-0.12.1-py3-none-any.whl (56 kB)\n",
      "\u001b[K     |████████████████████████████████| 56 kB 5.5 MB/s eta 0:00:01\n",
      "\u001b[?25hCollecting gitdb<5,>=4.0.1\n",
      "  Downloading gitdb-4.0.11-py3-none-any.whl (62 kB)\n",
      "\u001b[K     |████████████████████████████████| 62 kB 2.2 MB/s eta 0:00:01\n",
      "\u001b[?25hCollecting smmap<6,>=3.0.1\n",
      "  Downloading smmap-5.0.1-py3-none-any.whl (24 kB)\n",
      "Collecting rpds-py>=0.7.1\n",
      "  Downloading rpds_py-0.18.1-cp39-cp39-macosx_11_0_arm64.whl (322 kB)\n",
      "\u001b[K     |████████████████████████████████| 322 kB 22.7 MB/s eta 0:00:01\n",
      "\u001b[?25hRequirement already satisfied: attrs>=22.2.0 in /Users/kh/Library/Python/3.9/lib/python/site-packages (from jsonschema>=3.0->altair<6,>=4.0->streamlit) (23.2.0)\n",
      "Collecting jsonschema-specifications>=2023.03.6\n",
      "  Downloading jsonschema_specifications-2023.12.1-py3-none-any.whl (18 kB)\n",
      "Collecting referencing>=0.28.4\n",
      "  Downloading referencing-0.35.1-py3-none-any.whl (26 kB)\n",
      "Requirement already satisfied: python-dateutil>=2.8.2 in /Users/kh/Library/Python/3.9/lib/python/site-packages (from pandas<3,>=1.3.0->streamlit) (2.9.0.post0)\n",
      "Requirement already satisfied: tzdata>=2022.7 in /Users/kh/Library/Python/3.9/lib/python/site-packages (from pandas<3,>=1.3.0->streamlit) (2024.1)\n",
      "Requirement already satisfied: pytz>=2020.1 in /Users/kh/Library/Python/3.9/lib/python/site-packages (from pandas<3,>=1.3.0->streamlit) (2024.1)\n",
      "Requirement already satisfied: MarkupSafe>=2.0 in /Users/kh/Library/Python/3.9/lib/python/site-packages (from jinja2->altair<6,>=4.0->streamlit) (2.1.5)\n",
      "Requirement already satisfied: six>=1.5 in /Library/Developer/CommandLineTools/Library/Frameworks/Python3.framework/Versions/3.9/lib/python3.9/site-packages (from python-dateutil>=2.8.2->pandas<3,>=1.3.0->streamlit) (1.15.0)\n",
      "Requirement already satisfied: charset-normalizer<4,>=2 in /Users/kh/Library/Python/3.9/lib/python/site-packages (from requests<3,>=2.27->streamlit) (3.3.2)\n",
      "Requirement already satisfied: urllib3<3,>=1.21.1 in /Users/kh/Library/Python/3.9/lib/python/site-packages (from requests<3,>=2.27->streamlit) (2.2.1)\n",
      "Requirement already satisfied: idna<4,>=2.5 in /Users/kh/Library/Python/3.9/lib/python/site-packages (from requests<3,>=2.27->streamlit) (3.7)\n",
      "Requirement already satisfied: certifi>=2017.4.17 in /Users/kh/Library/Python/3.9/lib/python/site-packages (from requests<3,>=2.27->streamlit) (2024.2.2)\n",
      "Requirement already satisfied: pygments<3.0.0,>=2.13.0 in /Users/kh/Library/Python/3.9/lib/python/site-packages (from rich<14,>=10.14.0->streamlit) (2.18.0)\n",
      "Collecting markdown-it-py>=2.2.0\n",
      "  Downloading markdown_it_py-3.0.0-py3-none-any.whl (87 kB)\n",
      "\u001b[K     |████████████████████████████████| 87 kB 11.0 MB/s eta 0:00:01\n",
      "\u001b[?25hCollecting mdurl~=0.1\n",
      "  Downloading mdurl-0.1.2-py3-none-any.whl (10.0 kB)\n",
      "Installing collected packages: rpds-py, referencing, smmap, mdurl, jsonschema-specifications, toolz, markdown-it-py, jsonschema, gitdb, toml, rich, pydeck, pyarrow, protobuf, gitpython, cachetools, blinker, altair, streamlit\n",
      "Successfully installed altair-5.3.0 blinker-1.8.2 cachetools-5.3.3 gitdb-4.0.11 gitpython-3.1.43 jsonschema-4.22.0 jsonschema-specifications-2023.12.1 markdown-it-py-3.0.0 mdurl-0.1.2 protobuf-4.25.3 pyarrow-16.1.0 pydeck-0.9.1 referencing-0.35.1 rich-13.7.1 rpds-py-0.18.1 smmap-5.0.1 streamlit-1.35.0 toml-0.10.2 toolz-0.12.1\n",
      "\u001b[33mWARNING: You are using pip version 21.2.4; however, version 24.0 is available.\n",
      "You should consider upgrading via the '/Library/Developer/CommandLineTools/usr/bin/python3 -m pip install --upgrade pip' command.\u001b[0m\n",
      "Note: you may need to restart the kernel to use updated packages.\n"
     ]
    }
   ],
   "source": [
    "pip install streamlit"
   ]
  }
 ],
 "metadata": {
  "kernelspec": {
   "display_name": "Python 3",
   "language": "python",
   "name": "python3"
  },
  "language_info": {
   "codemirror_mode": {
    "name": "ipython",
    "version": 3
   },
   "file_extension": ".py",
   "mimetype": "text/x-python",
   "name": "python",
   "nbconvert_exporter": "python",
   "pygments_lexer": "ipython3",
   "version": "3.9.6"
  }
 },
 "nbformat": 4,
 "nbformat_minor": 2
}
